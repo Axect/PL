{
 "cells": [
  {
   "cell_type": "markdown",
   "metadata": {
    "deletable": true,
    "editable": true,
    "slideshow": {
     "slide_type": "slide"
    }
   },
   "source": [
    "<h1 style=\"text-align:center\">Data Structure</h1>\n",
    "<h3 style=\"text-align:center\">With Scala</h3>\n",
    "<br>\n",
    "<h4 style=\"text-align:center\">Tae Geun Kim</h4>"
   ]
  },
  {
   "cell_type": "markdown",
   "metadata": {
    "deletable": true,
    "editable": true,
    "slideshow": {
     "slide_type": "slide"
    }
   },
   "source": [
    "## What is Data Structure?\n",
    "\n",
    "컴퓨터의 메모리는 1차원 구조이기 때문에 현실 세계의 다차원데이터를 다루기 위해서는 이것을 1차원인 선 형태로 바꾸는 것이 필요하다. 대학교 1학년 과정에서 배우는 기초 알고리즘들은 바로 이 방법을 학습한다. 2차원 배열, 이진 트리, 그래프 등의 자료구조가 2차원 데이터를 1차원으로 욱여넣는 방법을 배우는 것이다. 더 나아가 3차원 데이터를 다루고, 더 지나면 3차원 데이터 이상의 다차원 데이터를 처리하는 자료구조를 만날 수 있다. 물론 B트리나 R트리의 경우처럼 같은 2차원 데이터도 어떻게 조직화하느냐에 따라 자료구조가 달라진다. [출처: 나무위키]"
   ]
  },
  {
   "cell_type": "markdown",
   "metadata": {
    "deletable": true,
    "editable": true,
    "slideshow": {
     "slide_type": "subslide"
    }
   },
   "source": [
    "### Example: Python\n",
    "\n",
    "1. List (But, it's Array)\n",
    "    ```python\n",
    "    X = [1,2,3,4,5]\n",
    "    print(X[2])\n",
    "    Y = [i + 1 for i in X] # List comprehension\n",
    "    print(Y)\n",
    "    ```\n",
    "\n",
    "2. Tuple\n",
    "    ```python\n",
    "    X = (\"hi\", 2, 3.1)\n",
    "    print(X[0])\n",
    "    ```\n",
    "\n",
    "3. Dict\n",
    "    ```python\n",
    "    X = {\"hi\": 2.0}\n",
    "    print(X[\"hi\"])\n",
    "    ```    "
   ]
  },
  {
   "cell_type": "markdown",
   "metadata": {
    "deletable": true,
    "editable": true,
    "slideshow": {
     "slide_type": "subslide"
    }
   },
   "source": [
    "### Example: Scala\n",
    "\n",
    "1. Array\n",
    "    ```scala\n",
    "    val x = Array(1,2,3,4,5)\n",
    "    println(x(2)) // Function?\n",
    "    ```\n",
    "    \n",
    "2. List\n",
    "    ```scala\n",
    "    val x = List(1,2,3,4,5)\n",
    "    println(x)\n",
    "    def addOne[A](xs: List[A]): List[A] = xs match {\n",
    "        case Nil => Nil\n",
    "        case Cons(h, t) => Cons(h+1, addOne(t))\n",
    "    }\n",
    "    println(addOne(x))\n",
    "    ```\n",
    "    \n",
    "3. Stream\n",
    "    ```scala\n",
    "    val x = Stream(1,2,3,4,5)\n",
    "    println(x.take(3))\n",
    "    ```"
   ]
  },
  {
   "cell_type": "markdown",
   "metadata": {
    "slideshow": {
     "slide_type": "slide"
    }
   },
   "source": [
    "## Kind of Data Structure\n",
    "\n",
    "* Basic Data Structure (ex) Python: List, Map, Tuple -> Skip)\n",
    "* Object-Oriented Data Structure\n",
    "* Functional Data Structure"
   ]
  },
  {
   "cell_type": "markdown",
   "metadata": {
    "slideshow": {
     "slide_type": "slide"
    }
   },
   "source": [
    "## Object-Oriented Structure\n",
    "\n",
    "* Array\n",
    "* Class (OOP like)"
   ]
  },
  {
   "cell_type": "markdown",
   "metadata": {
    "slideshow": {
     "slide_type": "slide"
    }
   },
   "source": [
    "### Array\n",
    "\n",
    "컴퓨터 과학에서 배열(영어: array, 配列·排列, 문화어: 배렬)은 번호(인덱스)와 번호에 대응하는 데이터들로 이루어진 자료 구조를 나타낸다. 일반적으로 배열에는 같은 종류의 데이터들이 순차적으로 저장되어, 값의 번호가 곧 배열의 시작점으로부터 값이 저장되어 있는 상대적인 위치가 된다. 대부분의 프로그래밍 언어에서 사용할 수 있는 가장 기초적인 자료 구조로, 기본적인 용도 외에 다른 복잡한 자료 구조들을 표현하기 위해서 또는 행렬, 벡터 등을 컴퓨터에서 표현하는 용도 등으로도 사용된다. [출처: 위키피디아]"
   ]
  },
  {
   "cell_type": "markdown",
   "metadata": {
    "slideshow": {
     "slide_type": "subslide"
    }
   },
   "source": [
    "<img src=\"array.jpg\" width=100%></img>"
   ]
  },
  {
   "cell_type": "markdown",
   "metadata": {
    "slideshow": {
     "slide_type": "subslide"
    }
   },
   "source": [
    "### Array Summary\n",
    "\n",
    "* 배열은 고정된 크기! 크기를 한 번 지정하면 변경할 수 없음. (Python: ...?, Julia: ...?, MATLAB: ...?, R: ...?)\n",
    "* 한 번 지정하면 변경이 불가 -> C 계열 언어에선 포인터로 이를 해결하지만 Python이나 Julia등은 필연적으로 메모리의 위치가 바뀜.\n",
    "* 배열은 index를 포함하기에 변수접근 속도가 매우 빠름. ($\\mathcal{O}(1)$)\n",
    "* 하지만 추가나 값 변경을 할 시에 필연적으로 메모리의 변경이 일어나게 되고 속도 손실이 생김. // 동적언어는 메모리를 확장!\n",
    "* 정적언어에서는 포인터로 접근하지만 동적언어에선 오류의 확인이 불가\n",
    "* 자료구조의 가장 기본적인 꼴이므로 기본 처리속도 자체는 매우 빠른 편"
   ]
  },
  {
   "cell_type": "markdown",
   "metadata": {
    "slideshow": {
     "slide_type": "subslide"
    }
   },
   "source": [
    "### Example: Python\n",
    "\n",
    "```python\n",
    "def idCheck(xs):\n",
    "    return [id(x) for x in xs]\n",
    "\n",
    "A = [1,2,3,4,5]\n",
    "ID1 = idCheck(A)\n",
    "A[0] = 0\n",
    "ID2 = idCheck(A)\n",
    "A += [6,]\n",
    "ID3 = idCheck(A)\n",
    "```"
   ]
  },
  {
   "cell_type": "markdown",
   "metadata": {
    "slideshow": {
     "slide_type": "slide"
    }
   },
   "source": [
    "### Class\n",
    "\n",
    "*  객체지향의 꽃\n",
    "\n",
    "클래스(class)는 객체 지향 프로그래밍(OOP)에서 특정 객체를 생성하기 위해 변수와 메소드를 정의하는 일종의 틀이다. 객체를 정의 하기 위한 상태(멤버변수)와 메서드(함수)로 구성된다.  \n",
    "템플릿을 사용하면 객체를 클래스로 정의할 때 멤버의 자료형을 미리 정하지 않고 객체를 사용할 때 결정할 수 있다. 이를 통해 클래스나 멤버의 중복 정의를 하지 않아도 되므로 효율적으로 코딩이 가능하다. [출처: 나무위키]"
   ]
  },
  {
   "cell_type": "markdown",
   "metadata": {
    "slideshow": {
     "slide_type": "subslide"
    }
   },
   "source": [
    "### Example: Go\n",
    "\n",
    "```go\n",
    "import math\n",
    "\n",
    "type Circle struct {\n",
    "    radius  float64\n",
    "}\n",
    "\n",
    "func (C Circle) Area() {\n",
    "    R = C.radius\n",
    "    return math.Pi * math.Pow(R,2)\n",
    "}\n",
    "```"
   ]
  },
  {
   "cell_type": "markdown",
   "metadata": {
    "slideshow": {
     "slide_type": "subslide"
    }
   },
   "source": [
    "### Example: Julia\n",
    "```julia\n",
    "mutable struct Circle\n",
    "    radius :: Float64\n",
    "end\n",
    "\n",
    "function calcArea(C::Circle)::Float64\n",
    "    r = C.radius\n",
    "    return pi * r^2\n",
    "end\n",
    "```"
   ]
  },
  {
   "cell_type": "markdown",
   "metadata": {
    "slideshow": {
     "slide_type": "subslide"
    }
   },
   "source": [
    "### Example: Scala\n",
    "\n",
    "```scala\n",
    "import math\n",
    "\n",
    "class Circle(r: double) {\n",
    "    var radius: double = r\n",
    "    def calcArea: double = math.pi * math.square(radius)\n",
    "}\n",
    "```\n"
   ]
  },
  {
   "cell_type": "markdown",
   "metadata": {
    "slideshow": {
     "slide_type": "subslide"
    }
   },
   "source": [
    "### Example: Python\n",
    "\n",
    "```python\n",
    "import math\n",
    "\n",
    "class Circle:\n",
    "    def __init__(self, rad):\n",
    "        self.radius = rad\n",
    "     \n",
    "    def area(self):\n",
    "        return math.pi * self.radius ** 2\n",
    "```"
   ]
  },
  {
   "cell_type": "markdown",
   "metadata": {
    "slideshow": {
     "slide_type": "subslide"
    }
   },
   "source": [
    "### Class 사용법\n",
    "\n",
    "* Struct & Method 꼴의 경우 구조체에 데이터들을 초기화하고 그것을 바꿔가면서 사용\n",
    "* Class의 경우도 비슷하나 Class 자체에 데이터와 메소드가 모두 있다는 것이 다름."
   ]
  },
  {
   "cell_type": "markdown",
   "metadata": {
    "slideshow": {
     "slide_type": "subslide"
    }
   },
   "source": [
    "### Example: Julia\n",
    "\n",
    "```julia\n",
    "mutable struct Container\n",
    "    x :: Float64\n",
    "    y :: Float64\n",
    "end\n",
    "\n",
    "function calculator(C::Container)\n",
    "    C.x += 1\n",
    "    C.y += 2\n",
    "end\n",
    "\n",
    "function main()\n",
    "    X = Container(1.0, -2.0)\n",
    "    calculator(X)\n",
    "    println(X)\n",
    "end\n",
    "```"
   ]
  },
  {
   "cell_type": "markdown",
   "metadata": {
    "slideshow": {
     "slide_type": "subslide"
    }
   },
   "source": [
    "### Example: Python\n",
    "\n",
    "```python\n",
    "class Container:\n",
    "    def __init__(self, x, y):\n",
    "        self.x = x\n",
    "        self.y = y\n",
    "    \n",
    "    def calculator(self):\n",
    "        self.x += 1\n",
    "        self. y += 2\n",
    "\n",
    "def main():\n",
    "    C = Container(1, -2)\n",
    "    C.calculator()\n",
    "    print(C.x, C.y)\n",
    "```"
   ]
  },
  {
   "cell_type": "markdown",
   "metadata": {
    "slideshow": {
     "slide_type": "subslide"
    }
   },
   "source": [
    "### Example: Python\n",
    "\n",
    "```python\n",
    "class Derivative:\n",
    "    def __init__(self, f):\n",
    "        self.f = f\n",
    "        self.h = 1e-06\n",
    "    \n",
    "    def differentiate(self, x):\n",
    "        return (self.f(x+self.h) - self.f(x))/self.h\n",
    "       \n",
    "    def __call__(self, x):\n",
    "        return self.differentiate(x)\n",
    "```"
   ]
  },
  {
   "cell_type": "markdown",
   "metadata": {
    "slideshow": {
     "slide_type": "slide"
    }
   },
   "source": [
    "## Functional Data Structure\n",
    "\n",
    "* (Linked) List\n",
    "* Tree\n",
    "* Stream"
   ]
  },
  {
   "cell_type": "markdown",
   "metadata": {
    "slideshow": {
     "slide_type": "subslide"
    }
   },
   "source": [
    "### List\n",
    "\n",
    "연결 리스트, 링크드 리스트(linked list)는 각 노드가 데이터와 포인터를 가지고 한 줄로 연결되어 있는 방식으로 데이터를 저장하는 자료 구조이다. 이름에서 말하듯이 데이터를 담고 있는 노드들이 연결되어 있는데, 노드의 포인터가 다음이나 이전의 노드와의 연결을 담당하게 된다.  \n",
    "연결 리스트는 늘어선 노드의 중간지점에서도 자료의 추가와 삭제가 O(1)의 시간에 가능하다는 장점을 갖는다. 그러나 배열이나 트리 구조와는 달리 특정 위치의 데이터를 검색해 내는데에는 O(n)의 시간이 걸리는 단점도 갖고 있다. [출처: 위키피디아]"
   ]
  },
  {
   "cell_type": "markdown",
   "metadata": {
    "slideshow": {
     "slide_type": "subslide"
    }
   },
   "source": [
    "<img src=\"list.gif\" width=100%></img>"
   ]
  },
  {
   "cell_type": "code",
   "execution_count": null,
   "metadata": {
    "collapsed": true
   },
   "outputs": [],
   "source": []
  }
 ],
 "metadata": {
  "celltoolbar": "Slideshow",
  "kernelspec": {
   "display_name": "Scala",
   "language": "scala",
   "name": "scala"
  },
  "language_info": {
   "codemirror_mode": "text/x-scala",
   "file_extension": ".scala",
   "mimetype": "text/x-scala",
   "name": "scala211",
   "nbconvert_exporter": "script",
   "pygments_lexer": "scala",
   "version": "2.11.11"
  }
 },
 "nbformat": 4,
 "nbformat_minor": 2
}
